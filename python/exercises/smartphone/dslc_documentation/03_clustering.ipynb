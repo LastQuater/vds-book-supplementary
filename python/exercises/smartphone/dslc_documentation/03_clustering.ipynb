{
 "cells": [
  {
   "attachments": {},
   "cell_type": "markdown",
   "metadata": {},
   "source": [
    "# Applying cluster analysis to the smartphone activity data\n",
    "\n",
    "[DSLC stages]: Analysis\n",
    "\n",
    "\n",
    "\n",
    "\n",
    "In this document, you will conduct a cluster analysis on the smartphone actiivity data. \n",
    "\n",
    "You'll want to start by loading some libraries, loading the data and cleaning and pre-processing it using the relevant functions.\n"
   ]
  },
  {
   "attachments": {},
   "cell_type": "markdown",
   "metadata": {},
   "source": []
  }
 ],
 "metadata": {
  "kernelspec": {
   "display_name": "Python 3",
   "language": "python",
   "name": "python3"
  },
  "language_info": {
   "codemirror_mode": {
    "name": "ipython",
    "version": 3
   },
   "file_extension": ".py",
   "mimetype": "text/x-python",
   "name": "python",
   "nbconvert_exporter": "python",
   "pygments_lexer": "ipython3",
   "version": "3.11.2"
  },
  "orig_nbformat": 4
 },
 "nbformat": 4,
 "nbformat_minor": 2
}

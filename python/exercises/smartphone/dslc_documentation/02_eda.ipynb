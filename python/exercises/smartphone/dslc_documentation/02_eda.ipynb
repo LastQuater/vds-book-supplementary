{
 "cells": [
  {
   "attachments": {},
   "cell_type": "markdown",
   "metadata": {},
   "source": [
    "# Exploring the smartphone activity data\n",
    "\n",
    "[DSLC stages]: EDA\n",
    "\n",
    "\n",
    "\n",
    "We examined and cleaned the smartphone activity data in the file `01_cleaning.qmd`. In this document, you will conduct your own an EDA of the smartphone activity data. \n",
    "\n",
    "You'll want to start by loading some libraries, loading the data and cleaning and pre-processing it using the relevant functions.\n",
    "\n"
   ]
  },
  {
   "attachments": {},
   "cell_type": "markdown",
   "metadata": {},
   "source": [
    "\n",
    "## High-level summary of the data\n",
    "\n",
    "Conduct a high-level summary of the data. For example, you may want to look at some histograms and scatterplots. \n"
   ]
  },
  {
   "attachments": {},
   "cell_type": "markdown",
   "metadata": {},
   "source": [
    "\n",
    "## Other explorations\n",
    "\n",
    "Create some sections that involve a question-answer exploration, keeping the overall project in mind as you go."
   ]
  },
  {
   "attachments": {},
   "cell_type": "markdown",
   "metadata": {},
   "source": []
  }
 ],
 "metadata": {
  "kernelspec": {
   "display_name": "Python 3",
   "language": "python",
   "name": "python3"
  },
  "language_info": {
   "codemirror_mode": {
    "name": "ipython",
    "version": 3
   },
   "file_extension": ".py",
   "mimetype": "text/x-python",
   "name": "python",
   "nbconvert_exporter": "python",
   "pygments_lexer": "ipython3",
   "version": "3.11.2"
  },
  "orig_nbformat": 4
 },
 "nbformat": 4,
 "nbformat_minor": 2
}
